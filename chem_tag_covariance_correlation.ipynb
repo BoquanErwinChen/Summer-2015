{
 "cells": [
  {
   "cell_type": "code",
   "execution_count": 1,
   "metadata": {
    "collapsed": true
   },
   "outputs": [],
   "source": [
    "__author__ = 'Erwin Chen'\n",
    "# %matplotlib nbagg\n",
    "%matplotlib inline\n",
    "import matplotlib.pyplot as plt\n",
    "import matplotlib as mpl\n",
    "from astropy.io import fits\n",
    "import numpy as np\n",
    "import random\n",
    "from sklearn.covariance import empirical_covariance, MinCovDet"
   ]
  },
  {
   "cell_type": "code",
   "execution_count": 2,
   "metadata": {
    "collapsed": false
   },
   "outputs": [
    {
     "name": "stdout",
     "output_type": "stream",
     "text": [
      "Filename: allStar-v603.fits\n",
      "No.    Name         Type      Cards   Dimensions   Format\n",
      "0    PRIMARY     PrimaryHDU      15   ()              \n",
      "1                BinTableHDU    324   163278R x 151C   [45A, 34A, 44A, 34A, 18A, 8A, I, 16A, E, E, E, E, E, E, D, D, D, D, J, J, 116A, J, I, E, J, 129A, J, 59A, E, E, E, E, E, E, E, E, E, E, E, E, E, E, 2E, 2E, 2E, 2E, 5A, 6A, 4A, I, 7E, 7E, 49E, 49E, 15E, 15E, 15E, 15E, E, E, E, E, E, E, E, E, E, 2A, J, 153A, 7J, E, E, E, E, E, E, E, E, E, E, E, E, E, E, E, E, E, E, E, E, E, E, E, E, E, E, E, E, E, E, J, J, J, J, J, J, J, J, J, J, J, J, J, J, J, 15E, 15J, 18A, 12A, E, E, E, E, E, E, E, E, E, E, E, E, E, E, E, E, E, E, E, 17A, E, E, I, I, E, E, 20A, 737A, 665A, 50J, 50J]   \n",
      "2                ImageHDU         6   (360,)       int32   \n",
      "3                BinTableHDU     31   1R x 4C      [105A, 30A, 90A, 15I]   \n"
     ]
    }
   ],
   "source": [
    "# load data from fits file\n",
    "hdulist = fits.open('allStar-v603.fits')\n",
    "hdulist.info()\n",
    "tbdata = hdulist[1].data\n",
    "# APOGEE ID for stars\n",
    "apogee_ID = tbdata.field('APOGEE_ID')\n",
    "# Galactic Longitude\n",
    "l = tbdata.field('GLON')\n",
    "# Galactic Latitude \n",
    "b = tbdata.field('GLAT')\n",
    "# Right Ascension(J2000)\n",
    "RA = tbdata.field('RA')\n",
    "# Declination(J2000)\n",
    "DEC = tbdata.field('DEC')\n",
    "# Heliocentric radial velocity\n",
    "RV = tbdata.field('VHELIO_AVG')\n",
    "J = tbdata.field('J')\n",
    "H = tbdata.field('H')\n",
    "K = tbdata.field('K')\n",
    "LOGG = tbdata.field('LOGG')\n",
    "TEFF = tbdata.field('TEFF')\n",
    "# Proper Motion\n",
    "PMRA = tbdata.field('PMRA')\n",
    "PMDEC = tbdata.field('PMDEC')\n",
    "# 15 elements\n",
    "elements = np.array([\"Al\", \"Ca\", \"C\", \"Fe\", \"K\", \"Mg\", \"Mn\", \"Na\", \"Ni\", \"N\", \"O\", \"Si\", \"S\", \"Ti\", \"V\"])\n",
    "AL_H = tbdata.field(\"AL_H\")\n",
    "CA_H = tbdata.field(\"CA_H\")\n",
    "C_H = tbdata.field(\"C_H\")\n",
    "FE_H = tbdata.field('FE_H')\n",
    "K_H = tbdata.field(\"K_H\")\n",
    "MG_H = tbdata.field(\"MG_H\")\n",
    "MN_H = tbdata.field(\"MN_H\")\n",
    "NA_H = tbdata.field(\"NA_H\")\n",
    "NI_H = tbdata.field(\"NI_H\")\n",
    "N_H = tbdata.field(\"N_H\")\n",
    "O_H = tbdata.field(\"O_H\")\n",
    "SI_H = tbdata.field(\"SI_H\")\n",
    "S_H = tbdata.field(\"S_H\")\n",
    "TI_H = tbdata.field(\"TI_H\")\n",
    "V_H = tbdata.field(\"V_H\")\n",
    "# errors for 15 elements\n",
    "AL_H_ERR = tbdata.field(\"AL_H_ERR\")\n",
    "CA_H_ERR = tbdata.field(\"CA_H_ERR\")\n",
    "C_H_ERR = tbdata.field(\"C_H_ERR\")\n",
    "FE_H_ERR = tbdata.field(\"FE_H_ERR\")\n",
    "K_H_ERR = tbdata.field(\"K_H_ERR\")\n",
    "MG_H_ERR = tbdata.field(\"MG_H_ERR\")\n",
    "MN_H_ERR = tbdata.field(\"MN_H_ERR\")\n",
    "NA_H_ERR = tbdata.field(\"NA_H_ERR\")\n",
    "NI_H_ERR = tbdata.field(\"NI_H_ERR\")\n",
    "N_H_ERR = tbdata.field(\"N_H_ERR\")\n",
    "O_H_ERR = tbdata.field(\"O_H_ERR\")\n",
    "SI_H_ERR = tbdata.field(\"SI_H_ERR\")\n",
    "S_H_ERR = tbdata.field(\"S_H_ERR\")\n",
    "TI_H_ERR = tbdata.field(\"TI_H_ERR\")\n",
    "V_H_ERR = tbdata.field(\"V_H_ERR\")"
   ]
  },
  {
   "cell_type": "code",
   "execution_count": 3,
   "metadata": {
    "collapsed": true
   },
   "outputs": [],
   "source": [
    "# get chemical abundances of 15 elements for all available stars\n",
    "def get_matrix_all():\n",
    "    # get stars with valid info\n",
    "    C = np.where(\n",
    "        (LOGG > -9999.) * (TEFF > -9999.) * (RV < 999999.0) *\n",
    "        (AL_H > -9999.) * (CA_H > -9999.) * (C_H > -9999.0) *\n",
    "        (FE_H > -9999.) * (K_H > -9999.0) * (MG_H > - 9999.0) *\n",
    "        (MN_H > -9999.) * (NA_H > -9999.0) * (NI_H > -9999.) *\n",
    "        (N_H > -9999.) * (O_H > -9999.0) * (SI_H > -9999.) *\n",
    "        (S_H > -9999.) * (TI_H > -9999.) * (V_H > -9999.))[0]\n",
    "    data = []\n",
    "    data.append(C_H[C])\n",
    "    data.append(FE_H[C])\n",
    "    data.append(N_H[C])\n",
    "    data.append(O_H[C])\n",
    "    data.append(MG_H[C])\n",
    "    data.append(SI_H[C])\n",
    "    data.append(NI_H[C])\n",
    "    data.append(AL_H[C])\n",
    "    data.append(CA_H[C])\n",
    "    data.append(MN_H[C])\n",
    "    data.append(NA_H[C])\n",
    "    data.append(S_H[C])\n",
    "    data.append(K_H[C])\n",
    "    data.append(TI_H[C])\n",
    "    data.append(V_H[C])\n",
    "    data = np.array(data)\n",
    "    data = data.T\n",
    "    return data\n",
    "\n",
    "# get chemical abundances of 15 elements for selected stars\n",
    "def get_matrix(C):\n",
    "    data = []\n",
    "    data.append(C_H[C])\n",
    "    data.append(FE_H[C])\n",
    "    data.append(N_H[C])\n",
    "    data.append(O_H[C])\n",
    "    data.append(MG_H[C])\n",
    "    data.append(SI_H[C])\n",
    "    data.append(NI_H[C])\n",
    "    data.append(AL_H[C])\n",
    "    data.append(CA_H[C])\n",
    "    data.append(MN_H[C])\n",
    "    data.append(NA_H[C])\n",
    "    data.append(S_H[C])\n",
    "    data.append(K_H[C])\n",
    "    data.append(TI_H[C])\n",
    "    data.append(V_H[C])\n",
    "    data = np.array(data)\n",
    "    data = data.T\n",
    "    return data\n",
    "\n",
    "def get_matrix_all_normalized():\n",
    "    # get stars with valid info\n",
    "    C = np.where(\n",
    "        (LOGG > -9999.) * (TEFF > -9999.) * (RV < 999999.0) *\n",
    "        (AL_H > -9999.) * (CA_H > -9999.) * (C_H > -9999.0) *\n",
    "        (FE_H > -9999.) * (K_H > -9999.0) * (MG_H > - 9999.0) *\n",
    "        (MN_H > -9999.) * (NA_H > -9999.0) * (NI_H > -9999.) *\n",
    "        (N_H > -9999.) * (O_H > -9999.0) * (SI_H > -9999.) *\n",
    "        (S_H > -9999.) * (TI_H > -9999.) * (V_H > -9999.))[0]\n",
    "    data = []\n",
    "    data.append(C_H[C] / np.mean(C_H_ERR[C]))\n",
    "    data.append(FE_H[C] / np.mean(FE_H_ERR[C]))\n",
    "    data.append(N_H[C] / np.mean(N_H_ERR[C]))\n",
    "    data.append(O_H[C] / np.mean(O_H_ERR[C]))\n",
    "    data.append(MG_H[C] / np.mean(MG_H_ERR[C]))\n",
    "    data.append(SI_H[C] / np.mean(SI_H_ERR[C]))\n",
    "    data.append(NI_H[C] / np.mean(NI_H_ERR[C]))\n",
    "    data.append(AL_H[C] / np.mean(AL_H_ERR[C]))\n",
    "    data.append(CA_H[C] / np.mean(CA_H_ERR[C]))\n",
    "    data.append(MN_H[C] / np.mean(MN_H_ERR[C]))\n",
    "    data.append(NA_H[C] / np.mean(NA_H_ERR[C]))\n",
    "    data.append(S_H[C] / np.mean(S_H_ERR[C]))\n",
    "    data.append(K_H[C] / np.mean(K_H_ERR[C]))\n",
    "    data.append(TI_H[C] / np.mean(TI_H_ERR[C]))\n",
    "    data.append(V_H[C] / np.mean(V_H_ERR[C]))\n",
    "    data = np.array(data)\n",
    "    data = data.T\n",
    "    return data\n",
    "\n",
    "def get_matrix_normalized(C):\n",
    "    data = []\n",
    "    data.append(C_H[C] / np.mean(C_H_ERR[C]))\n",
    "    data.append(FE_H[C] / np.mean(FE_H_ERR[C]))\n",
    "    data.append(N_H[C] / np.mean(N_H_ERR[C]))\n",
    "    data.append(O_H[C] / np.mean(O_H_ERR[C]))\n",
    "    data.append(MG_H[C] / np.mean(MG_H_ERR[C]))\n",
    "    data.append(SI_H[C] / np.mean(SI_H_ERR[C]))\n",
    "    data.append(NI_H[C] / np.mean(NI_H_ERR[C]))\n",
    "    data.append(AL_H[C] / np.mean(AL_H_ERR[C]))\n",
    "    data.append(CA_H[C] / np.mean(CA_H_ERR[C]))\n",
    "    data.append(MN_H[C] / np.mean(MN_H_ERR[C]))\n",
    "    data.append(NA_H[C] / np.mean(NA_H_ERR[C]))\n",
    "    data.append(S_H[C] / np.mean(S_H_ERR[C]))\n",
    "    data.append(K_H[C] / np.mean(K_H_ERR[C]))\n",
    "    data.append(TI_H[C] / np.mean(TI_H_ERR[C]))\n",
    "    data.append(V_H[C] / np.mean(V_H_ERR[C]))\n",
    "    data = np.array(data)\n",
    "    data = data.T\n",
    "    return data"
   ]
  },
  {
   "cell_type": "code",
   "execution_count": 4,
   "metadata": {
    "collapsed": false
   },
   "outputs": [
    {
     "name": "stdout",
     "output_type": "stream",
     "text": [
      "(84452, 15)\n",
      "(2000, 15)\n"
     ]
    }
   ],
   "source": [
    "# calculate covariance matrix for all stars\n",
    "# get data matrix for all stars\n",
    "data = get_matrix_all()\n",
    "sample = np.array(random.sample(data, 2000))\n",
    "print data.shape\n",
    "print sample.shape\n",
    "# covarianceof a sample\n",
    "cov = np.cov(sample.T)\n",
    "# print np.around(np.cov(sample.T), decimals=2)\n",
    "# empirical covariance\n",
    "emp_cov = empirical_covariance(data, assume_centered=False)\n",
    "# print np.around(emp_cov.covariance_, decimals=2)\n",
    "# robust covariance\n",
    "mcd = MinCovDet().fit(data)\n",
    "# print np.around(mcd.covariance_, decimals=2)"
   ]
  },
  {
   "cell_type": "code",
   "execution_count": 5,
   "metadata": {
    "collapsed": false
   },
   "outputs": [
    {
     "data": {
      "image/png": "[encoded data removed]",
      "text/plain": [
       "<matplotlib.figure.Figure at 0x7f9ca48fcc10>"
      ]
     },
     "metadata": {},
     "output_type": "display_data"
    }
   ],
   "source": [
    "# plot covariance of a sample\n",
    "fig = plt.figure()\n",
    "plt.pcolor(cov)\n",
    "plt.colorbar()\n",
    "plt.yticks(np.arange(0.5,15.5),elements)\n",
    "plt.xticks(np.arange(0.5,15.5),elements)\n",
    "plt.xlim(0,15)\n",
    "plt.ylim(0,15)\n",
    "plt.show()"
   ]
  },
  {
   "cell_type": "code",
   "execution_count": 6,
   "metadata": {
    "collapsed": false
   },
   "outputs": [
    {
     "data": {
      "image/png": "[encoded data removed]",
      "text/plain": [
       "<matplotlib.figure.Figure at 0x7f9cb995de90>"
      ]
     },
     "metadata": {},
     "output_type": "display_data"
    }
   ],
   "source": [
    "# plot empirical covariance\n",
    "fig = plt.figure()\n",
    "plt.pcolor(emp_cov)\n",
    "plt.colorbar()\n",
    "plt.yticks(np.arange(0.5,15.5),elements)\n",
    "plt.xticks(np.arange(0.5,15.5),elements)\n",
    "plt.xlim(0,15)\n",
    "plt.ylim(0,15)\n",
    "plt.show()"
   ]
  },
  {
   "cell_type": "code",
   "execution_count": 7,
   "metadata": {
    "collapsed": false
   },
   "outputs": [
    {
     "data": {
      "image/png": "[encoded data removed]",
      "text/plain": [
       "<matplotlib.figure.Figure at 0x7f9cb995da10>"
      ]
     },
     "metadata": {},
     "output_type": "display_data"
    }
   ],
   "source": [
    "# plot robust covariance\n",
    "fig = plt.figure()\n",
    "plt.pcolor(mcd.covariance_)\n",
    "plt.colorbar()\n",
    "plt.yticks(np.arange(0.5,15.5),elements)\n",
    "plt.xticks(np.arange(0.5,15.5),elements)\n",
    "plt.xlim(0,15)\n",
    "plt.ylim(0,15)\n",
    "plt.show()"
   ]
  },
  {
   "cell_type": "code",
   "execution_count": 8,
   "metadata": {
    "collapsed": false
   },
   "outputs": [
    {
     "data": {
      "image/png": "[encoded data removed]",
      "text/plain": [
       "<matplotlib.figure.Figure at 0x7f9ca1a1db50>"
      ]
     },
     "metadata": {},
     "output_type": "display_data"
    }
   ],
   "source": [
    "# get the correlation matrix \n",
    "correlation = np.corrcoef(data.T)\n",
    "# plot correlation matrix\n",
    "fig = plt.figure()\n",
    "plt.pcolor(correlation)\n",
    "plt.colorbar()\n",
    "plt.yticks(np.arange(0.5,15.5),elements)\n",
    "plt.xticks(np.arange(0.5,15.5),elements)\n",
    "plt.xlim(0,15)\n",
    "plt.ylim(0,15)\n",
    "plt.show()"
   ]
  },
  {
   "cell_type": "code",
   "execution_count": null,
   "metadata": {
    "collapsed": true
   },
   "outputs": [],
   "source": []
  }
 ],
 "metadata": {
  "kernelspec": {
   "display_name": "Python 2",
   "language": "python",
   "name": "python2"
  },
  "language_info": {
   "codemirror_mode": {
    "name": "ipython",
    "version": 2
   },
   "file_extension": ".py",
   "mimetype": "text/x-python",
   "name": "python",
   "nbconvert_exporter": "python",
   "pygments_lexer": "ipython2",
   "version": "2.7.11"
  }
 },
 "nbformat": 4,
 "nbformat_minor": 0
}
