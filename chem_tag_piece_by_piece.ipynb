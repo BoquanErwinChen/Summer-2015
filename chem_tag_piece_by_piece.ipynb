{
 "cells": [
  {
   "cell_type": "code",
   "execution_count": 1,
   "metadata": {
    "collapsed": false
   },
   "outputs": [],
   "source": [
    "__author__ = 'Erwin Chen'\n",
    "# interact with plot\n",
    "# %matplotlib nbagg\n",
    "# simply show plot\n",
    "%matplotlib inline\n",
    "import matplotlib.pyplot as plt\n",
    "import matplotlib as mpl\n",
    "from astropy.io import fits\n",
    "import numpy as np\n",
    "import scipy.stats as stats\n",
    "import scipy.cluster.hierarchy as h\n",
    "from scipy.cluster.hierarchy import dendrogram, linkage, fcluster\n",
    "from sklearn.cluster import DBSCAN\n",
    "from sklearn import metrics\n",
    "from sklearn.preprocessing import StandardScaler, normalize\n",
    "from sklearn.cluster import KMeans\n",
    "import pickle"
   ]
  },
  {
   "cell_type": "code",
   "execution_count": 2,
   "metadata": {
    "collapsed": false
   },
   "outputs": [
    {
     "name": "stdout",
     "output_type": "stream",
     "text": [
      "Filename: allStar-v603.fits\n",
      "No.    Name         Type      Cards   Dimensions   Format\n",
      "0    PRIMARY     PrimaryHDU      15   ()              \n",
      "1                BinTableHDU    324   163278R x 151C   [45A, 34A, 44A, 34A, 18A, 8A, I, 16A, E, E, E, E, E, E, D, D, D, D, J, J, 116A, J, I, E, J, 129A, J, 59A, E, E, E, E, E, E, E, E, E, E, E, E, E, E, 2E, 2E, 2E, 2E, 5A, 6A, 4A, I, 7E, 7E, 49E, 49E, 15E, 15E, 15E, 15E, E, E, E, E, E, E, E, E, E, 2A, J, 153A, 7J, E, E, E, E, E, E, E, E, E, E, E, E, E, E, E, E, E, E, E, E, E, E, E, E, E, E, E, E, E, E, J, J, J, J, J, J, J, J, J, J, J, J, J, J, J, 15E, 15J, 18A, 12A, E, E, E, E, E, E, E, E, E, E, E, E, E, E, E, E, E, E, E, 17A, E, E, I, I, E, E, 20A, 737A, 665A, 50J, 50J]   \n",
      "2                ImageHDU         6   (360,)       int32   \n",
      "3                BinTableHDU     31   1R x 4C      [105A, 30A, 90A, 15I]   \n"
     ]
    }
   ],
   "source": [
    "# load data from fits file\n",
    "hdulist = fits.open('allStar-v603.fits')\n",
    "hdulist.info()\n",
    "tbdata = hdulist[1].data\n",
    "# APOGEE ID for stars\n",
    "apogee_ID = tbdata.field('APOGEE_ID')\n",
    "# Galactic Longitude\n",
    "l = tbdata.field('GLON')\n",
    "# Galactic Latitude \n",
    "b = tbdata.field('GLAT')\n",
    "# Right Ascension(J2000)\n",
    "RA = tbdata.field('RA')\n",
    "# Declination(J2000)\n",
    "DEC = tbdata.field('DEC')\n",
    "# Heliocentric radial velocity\n",
    "RV = tbdata.field('VHELIO_AVG')\n",
    "J = tbdata.field('J')\n",
    "H = tbdata.field('H')\n",
    "K = tbdata.field('K')\n",
    "LOGG = tbdata.field('LOGG')\n",
    "TEFF = tbdata.field('TEFF')\n",
    "# Proper Motion\n",
    "PMRA = tbdata.field('PMRA')\n",
    "PMDEC = tbdata.field('PMDEC')\n",
    "# 15 elements\n",
    "elements = np.array([\"Al\", \"Ca\", \"C\", \"Fe\", \"K\", \"Mg\", \"Mn\", \"Na\", \"Ni\", \"N\", \"O\", \"Si\", \"S\", \"Ti\", \"V\"])\n",
    "AL_H = tbdata.field(\"AL_H\")\n",
    "CA_H = tbdata.field(\"CA_H\")\n",
    "C_H = tbdata.field(\"C_H\")\n",
    "FE_H = tbdata.field('FE_H')\n",
    "K_H = tbdata.field(\"K_H\")\n",
    "MG_H = tbdata.field(\"MG_H\")\n",
    "MN_H = tbdata.field(\"MN_H\")\n",
    "NA_H = tbdata.field(\"NA_H\")\n",
    "NI_H = tbdata.field(\"NI_H\")\n",
    "N_H = tbdata.field(\"N_H\")\n",
    "O_H = tbdata.field(\"O_H\")\n",
    "SI_H = tbdata.field(\"SI_H\")\n",
    "S_H = tbdata.field(\"S_H\")\n",
    "TI_H = tbdata.field(\"TI_H\")\n",
    "V_H = tbdata.field(\"V_H\")\n",
    "# errors for 15 elements\n",
    "AL_H_ERR = tbdata.field(\"AL_H_ERR\")\n",
    "CA_H_ERR = tbdata.field(\"CA_H_ERR\")\n",
    "C_H_ERR = tbdata.field(\"C_H_ERR\")\n",
    "FE_H_ERR = tbdata.field(\"FE_H_ERR\")\n",
    "K_H_ERR = tbdata.field(\"K_H_ERR\")\n",
    "MG_H_ERR = tbdata.field(\"MG_H_ERR\")\n",
    "MN_H_ERR = tbdata.field(\"MN_H_ERR\")\n",
    "NA_H_ERR = tbdata.field(\"NA_H_ERR\")\n",
    "NI_H_ERR = tbdata.field(\"NI_H_ERR\")\n",
    "N_H_ERR = tbdata.field(\"N_H_ERR\")\n",
    "O_H_ERR = tbdata.field(\"O_H_ERR\")\n",
    "SI_H_ERR = tbdata.field(\"SI_H_ERR\")\n",
    "S_H_ERR = tbdata.field(\"S_H_ERR\")\n",
    "TI_H_ERR = tbdata.field(\"TI_H_ERR\")\n",
    "V_H_ERR = tbdata.field(\"V_H_ERR\")"
   ]
  },
  {
   "cell_type": "code",
   "execution_count": 3,
   "metadata": {
    "collapsed": true
   },
   "outputs": [],
   "source": [
    "# get chemical abundances of 15 elements for all available stars\n",
    "def get_matrix_all():\n",
    "    # get stars with valid info\n",
    "    C = np.where(\n",
    "        (LOGG > -9999.) * (TEFF > -9999.) * (RV < 999999.0) *\n",
    "        (AL_H > -9999.) * (CA_H > -9999.) * (C_H > -9999.0) *\n",
    "        (FE_H > -9999.) * (K_H > -9999.0) * (MG_H > - 9999.0) *\n",
    "        (MN_H > -9999.) * (NA_H > -9999.0) * (NI_H > -9999.) *\n",
    "        (N_H > -9999.) * (O_H > -9999.0) * (SI_H > -9999.) *\n",
    "        (S_H > -9999.) * (TI_H > -9999.) * (V_H > -9999.))[0]\n",
    "    data = []\n",
    "    data.append(C_H[C])\n",
    "    data.append(FE_H[C])\n",
    "    data.append(N_H[C])\n",
    "    data.append(O_H[C])\n",
    "    data.append(MG_H[C])\n",
    "    data.append(SI_H[C])\n",
    "    data.append(NI_H[C])\n",
    "    data.append(AL_H[C])\n",
    "    data.append(CA_H[C])\n",
    "    data.append(MN_H[C])\n",
    "    data.append(NA_H[C])\n",
    "    data.append(S_H[C])\n",
    "    data.append(K_H[C])\n",
    "    data.append(TI_H[C])\n",
    "    data.append(V_H[C])\n",
    "    data = np.array(data)\n",
    "    data = data.T\n",
    "    return data\n",
    "\n",
    "# get chemical abundances of 15 elements for selected stars\n",
    "def get_matrix(C):\n",
    "    data = []\n",
    "    data.append(C_H[C])\n",
    "    data.append(FE_H[C])\n",
    "    data.append(N_H[C])\n",
    "    data.append(O_H[C])\n",
    "    data.append(MG_H[C])\n",
    "    data.append(SI_H[C])\n",
    "    data.append(NI_H[C])\n",
    "    data.append(AL_H[C])\n",
    "    data.append(CA_H[C])\n",
    "    data.append(MN_H[C])\n",
    "    data.append(NA_H[C])\n",
    "    data.append(S_H[C])\n",
    "    data.append(K_H[C])\n",
    "    data.append(TI_H[C])\n",
    "    data.append(V_H[C])\n",
    "    data = np.array(data)\n",
    "    data = data.T\n",
    "    return data\n",
    "\n",
    "def get_matrix_all_normalized():\n",
    "    # get stars with valid info\n",
    "    C = np.where(\n",
    "        (LOGG > -9999.) * (TEFF > -9999.) * (RV < 999999.0) *\n",
    "        (AL_H > -9999.) * (CA_H > -9999.) * (C_H > -9999.0) *\n",
    "        (FE_H > -9999.) * (K_H > -9999.0) * (MG_H > - 9999.0) *\n",
    "        (MN_H > -9999.) * (NA_H > -9999.0) * (NI_H > -9999.) *\n",
    "        (N_H > -9999.) * (O_H > -9999.0) * (SI_H > -9999.) *\n",
    "        (S_H > -9999.) * (TI_H > -9999.) * (V_H > -9999.))[0]\n",
    "    data = []\n",
    "    data.append(C_H[C] / np.mean(C_H_ERR[C]))\n",
    "    data.append(FE_H[C] / np.mean(FE_H_ERR[C]))\n",
    "    data.append(N_H[C] / np.mean(N_H_ERR[C]))\n",
    "    data.append(O_H[C] / np.mean(O_H_ERR[C]))\n",
    "    data.append(MG_H[C] / np.mean(MG_H_ERR[C]))\n",
    "    data.append(SI_H[C] / np.mean(SI_H_ERR[C]))\n",
    "    data.append(NI_H[C] / np.mean(NI_H_ERR[C]))\n",
    "    data.append(AL_H[C] / np.mean(AL_H_ERR[C]))\n",
    "    data.append(CA_H[C] / np.mean(CA_H_ERR[C]))\n",
    "    data.append(MN_H[C] / np.mean(MN_H_ERR[C]))\n",
    "    data.append(NA_H[C] / np.mean(NA_H_ERR[C]))\n",
    "    data.append(S_H[C] / np.mean(S_H_ERR[C]))\n",
    "    data.append(K_H[C] / np.mean(K_H_ERR[C]))\n",
    "    data.append(TI_H[C] / np.mean(TI_H_ERR[C]))\n",
    "    data.append(V_H[C] / np.mean(V_H_ERR[C]))\n",
    "    data = np.array(data)\n",
    "    data = data.T\n",
    "    return data\n",
    "\n",
    "def get_matrix_normalized(C):\n",
    "    data = []\n",
    "    data.append(C_H[C] / np.mean(C_H_ERR[C]))\n",
    "    data.append(FE_H[C] / np.mean(FE_H_ERR[C]))\n",
    "    data.append(N_H[C] / np.mean(N_H_ERR[C]))\n",
    "    data.append(O_H[C] / np.mean(O_H_ERR[C]))\n",
    "    data.append(MG_H[C] / np.mean(MG_H_ERR[C]))\n",
    "    data.append(SI_H[C] / np.mean(SI_H_ERR[C]))\n",
    "    data.append(NI_H[C] / np.mean(NI_H_ERR[C]))\n",
    "    data.append(AL_H[C] / np.mean(AL_H_ERR[C]))\n",
    "    data.append(CA_H[C] / np.mean(CA_H_ERR[C]))\n",
    "    data.append(MN_H[C] / np.mean(MN_H_ERR[C]))\n",
    "    data.append(NA_H[C] / np.mean(NA_H_ERR[C]))\n",
    "    data.append(S_H[C] / np.mean(S_H_ERR[C]))\n",
    "    data.append(K_H[C] / np.mean(K_H_ERR[C]))\n",
    "    data.append(TI_H[C] / np.mean(TI_H_ERR[C]))\n",
    "    data.append(V_H[C] / np.mean(V_H_ERR[C]))\n",
    "    data = np.array(data)\n",
    "    data = data.T\n",
    "    return data\n",
    "\n"
   ]
  },
  {
   "cell_type": "code",
   "execution_count": 4,
   "metadata": {
    "collapsed": false
   },
   "outputs": [],
   "source": [
    "all_stars = np.where(\n",
    "        (LOGG > -9999.) * (TEFF > -9999.) * (RV < 999999.0) *\n",
    "        (AL_H > -9999.) * (CA_H > -9999.) * (C_H > -9999.0) *\n",
    "        (FE_H > -9999.) * (K_H > -9999.0) * (MG_H > - 9999.0) *\n",
    "        (MN_H > -9999.) * (NA_H > -9999.0) * (NI_H > -9999.) *\n",
    "        (N_H > -9999.) * (O_H > -9999.0) * (SI_H > -9999.) *\n",
    "        (S_H > -9999.) * (TI_H > -9999.) * (V_H > -9999.))[0]\n",
    "# divide stars into groups based on their location\n",
    "llbb = []\n",
    "llbb.append(l[all_stars])\n",
    "llbb.append(b[all_stars])\n",
    "llbb = np.array(llbb).T\n",
    "db = DBSCAN(eps=2, min_samples=50).fit(llbb)\n",
    "core_samples_mask = np.zeros_like(db.labels_, dtype=bool)\n",
    "core_samples_mask[db.core_sample_indices_] = True\n",
    "labels_llbb = db.labels_"
   ]
  },
  {
   "cell_type": "code",
   "execution_count": 5,
   "metadata": {
    "collapsed": false
   },
   "outputs": [
    {
     "name": "stdout",
     "output_type": "stream",
     "text": [
      "724\n"
     ]
    }
   ],
   "source": [
    "# chemical tagging with DBSCAN in each location group\n",
    "poss_members = []\n",
    "for n in range(labels_llbb.max()):\n",
    "    # certain location of the sky\n",
    "    if np.where(labels_llbb == n)[0].size > 100:\n",
    "        # perform chemical tagging for the location\n",
    "        stars = all_stars[np.where(labels_llbb == n)[0]]\n",
    "        data = get_matrix_normalized(stars)\n",
    "        kmeans = KMeans(n_clusters=stars.size/100, n_init=10)\n",
    "        kmeans.fit(data)\n",
    "        labels = kmeans.labels_\n",
    "        # choose one of the following two\n",
    "# 1 -----------------------------------------------------------------------------------------\n",
    "#         # find the group with the least dispersion in chemical space\n",
    "#         if labels.max() > -1:\n",
    "#             chem_disp = []\n",
    "#             for m in range(-1, labels.max()+1):\n",
    "#                 group = stars[np.where(labels == m)[0]]\n",
    "#                 chem_disp.append(np.std(FE_H[group]))\n",
    "#             chem_disp = np.array(chem_disp)\n",
    "#             # print chem_disp\n",
    "#             index = np.argsort(chem_disp)[0]\n",
    "#             poss_members.append(stars[np.where(labels == index)[0]])\n",
    "# 2 ------------------------------------------------------------------------------------------\n",
    "        # append every group that is not considered background\n",
    "        for index in range(labels.max()+1):\n",
    "            poss_members.append(stars[np.where(labels == index)[0]])\n",
    "#------------------------------------------------------------------------------------------\n",
    "poss_members = np.array(poss_members) \n",
    "print poss_members.size"
   ]
  },
  {
   "cell_type": "code",
   "execution_count": 6,
   "metadata": {
    "collapsed": false
   },
   "outputs": [
    {
     "name": "stdout",
     "output_type": "stream",
     "text": [
      "M107 47 4\n",
      "M107 97 10\n",
      "M107 114 1\n",
      "M13 64 20\n",
      "M5 103 43\n",
      "N6819 257 4\n",
      "N6819 238 6\n",
      "N6819 222 1\n",
      "N6819 74 1\n",
      "N6819 224 2\n",
      "N6819 215 2\n",
      "N6819 204 1\n",
      "N6819 111 3\n",
      "N6819 274 5\n",
      "N6819 213 1\n",
      "N6819 244 3\n",
      "M67 173 24\n"
     ]
    }
   ],
   "source": [
    "# compare the possible members \n",
    "# load known members\n",
    "known_clusters = np.loadtxt('table4.dat', usecols=(0, 1), dtype=('S', 'S'), unpack=True)\n",
    "# names of all known clusters\n",
    "known_clusters_names = known_clusters[1]\n",
    "# M92, M15, M53, N5466, M2, M13, M3, M5, M107, M71, N2158, N2420, N188, M67, Pleiades, N6819, N6791\n",
    "# APOGEE IDs for all known members\n",
    "known_clusters_ID = known_clusters[0]\n",
    "# get all known members\n",
    "members = np.array([np.where(ID == apogee_ID)[0][0] for ID in known_clusters_ID])\n",
    "# get members with all 15 elements\n",
    "members_15 = np.intersect1d(all_stars, members)\n",
    "# list of names of clusters to check\n",
    "clusters_names = np.array([\"M107\", \"M13\", \"M5\", \"N6819\", \"M67\"])\n",
    "for name in clusters_names:\n",
    "    # get members of a known cluster\n",
    "    name_members_ID = known_clusters_ID[np.where(name == known_clusters_names)]\n",
    "    name_members = np.array([np.where(ID == apogee_ID)[0][0] for ID in name_members_ID])\n",
    "    name_members = np.intersect1d(name_members, members_15)\n",
    "    for group in poss_members:\n",
    "        overlap = np.intersect1d(name_members, group)\n",
    "        if overlap.size > 0:\n",
    "            print name, group.size, overlap.size"
   ]
  },
  {
   "cell_type": "code",
   "execution_count": 10,
   "metadata": {
    "collapsed": false,
    "scrolled": true
   },
   "outputs": [
    {
     "name": "stdout",
     "output_type": "stream",
     "text": [
      "M107 115 673 15 15\n",
      "M13 117 264 20 20\n",
      "M5 107 294 43 43\n",
      "N6819 135 7471 29 29\n",
      "M67 48 173 24 24\n"
     ]
    }
   ],
   "source": [
    "# the relationship between actual clusters and location groups\n",
    "for name in clusters_names:\n",
    "    # get members of a known cluster\n",
    "    name_members_ID = known_clusters_ID[np.where(name == known_clusters_names)]\n",
    "    name_members = np.array([np.where(ID == apogee_ID)[0][0] for ID in name_members_ID])\n",
    "    name_members = np.intersect1d(name_members, members_15)\n",
    "    for n in range(labels_llbb.max()+1):\n",
    "        group = all_stars[np.where(labels_llbb == n)[0]]\n",
    "        if np.intersect1d(group, name_members).size > 0:\n",
    "            print name, n, group.size, name_members.size, np.intersect1d(group, name_members).size"
   ]
  },
  {
   "cell_type": "code",
   "execution_count": 11,
   "metadata": {
    "collapsed": false
   },
   "outputs": [
    {
     "data": {
      "image/png": "[encoded data removed]",
      "text/plain": [
       "<matplotlib.figure.Figure at 0x7fddbc4e6f50>"
      ]
     },
     "metadata": {},
     "output_type": "display_data"
    }
   ],
   "source": [
    "# plot Fe-C of the location group where N6819 is located\n",
    "N6819_members_ID = known_clusters_ID[np.where(\"N6819\" == known_clusters_names)]\n",
    "N6819_members = np.array([np.where(ID == apogee_ID)[0][0] for ID in name_members_ID])\n",
    "N6819_members = np.intersect1d(name_members, members_15)\n",
    "N6819_llbb = all_stars[np.where(labels_llbb == 135)[0]]\n",
    "plt.plot(FE_H[N6819_llbb], C_H[N6819_llbb], \"r.\")\n",
    "plt.plot(FE_H[N6819_members], C_H[N6819_members], \"b.\", label=\"N6819 members\")\n",
    "plt.title(\"chemical abundance at N6819 location\")\n",
    "plt.xlabel(\"[Fe/H](dex)\")\n",
    "plt.ylabel(\"[C/H](dex)\")\n",
    "plt.legend(loc=4)\n",
    "plt.show()"
   ]
  },
  {
   "cell_type": "code",
   "execution_count": 12,
   "metadata": {
    "collapsed": false
   },
   "outputs": [
    {
     "data": {
      "image/png": "[encoded data removed]",
      "text/plain": [
       "<matplotlib.figure.Figure at 0x7fdd9476b710>"
      ]
     },
     "metadata": {},
     "output_type": "display_data"
    }
   ],
   "source": [
    "plt.hist2d(FE_H[N6819_llbb], C_H[N6819_llbb], bins=110, cmap=\"OrRd\")\n",
    "plt.plot(FE_H[N6819_members], C_H[N6819_members], \"b.\", label=\"N6819 members\", alpha=0.6, markersize=3)\n",
    "plt.title(\"chemical abundance at N6819 location\")\n",
    "plt.xlabel(\"[Fe/H](dex)\")\n",
    "plt.ylabel(\"[C/H](dex)\")\n",
    "plt.legend(loc=4)\n",
    "plt.show()"
   ]
  },
  {
   "cell_type": "code",
   "execution_count": null,
   "metadata": {
    "collapsed": true
   },
   "outputs": [],
   "source": []
  }
 ],
 "metadata": {
  "kernelspec": {
   "display_name": "Python 2",
   "language": "python",
   "name": "python2"
  },
  "language_info": {
   "codemirror_mode": {
    "name": "ipython",
    "version": 2
   },
   "file_extension": ".py",
   "mimetype": "text/x-python",
   "name": "python",
   "nbconvert_exporter": "python",
   "pygments_lexer": "ipython2",
   "version": "2.7.11"
  }
 },
 "nbformat": 4,
 "nbformat_minor": 0
}
